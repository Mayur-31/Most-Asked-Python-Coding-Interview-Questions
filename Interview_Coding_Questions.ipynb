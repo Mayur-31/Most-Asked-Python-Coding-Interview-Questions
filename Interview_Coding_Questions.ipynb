{
 "cells": [
  {
   "cell_type": "markdown",
   "id": "e3ed8d79-ac4f-46bb-8caf-7a0ae5b155c3",
   "metadata": {},
   "source": [
    "# Python Programs"
   ]
  },
  {
   "cell_type": "markdown",
   "id": "3ee30b4b-6321-4a82-9678-354b6b804ea7",
   "metadata": {},
   "source": [
    "# 1. Write a Python program to check if a String is Palindrome or not"
   ]
  },
  {
   "cell_type": "code",
   "execution_count": 1,
   "id": "3c568f61-db42-4c8a-a3f3-a5b732a3838e",
   "metadata": {},
   "outputs": [
    {
     "name": "stdin",
     "output_type": "stream",
     "text": [
      "Enter the Name:  madam\n"
     ]
    },
    {
     "name": "stdout",
     "output_type": "stream",
     "text": [
      "String is Palindrome\n"
     ]
    }
   ],
   "source": [
    "str = input(\"Enter the Name: \")\n",
    "res = str[::-1]\n",
    "if res==str:\n",
    "    print(\"String is Palindrome\")\n",
    "else:\n",
    "    print(\"String is not Palindrome\")"
   ]
  },
  {
   "cell_type": "markdown",
   "id": "e73e239d-f1a5-4b14-9c37-127e3a08109b",
   "metadata": {},
   "source": [
    "# 2. Write a Python Program to Find the Factorial of a number"
   ]
  },
  {
   "cell_type": "code",
   "execution_count": 6,
   "id": "92d792a9-29b1-43e5-938f-f1b90fa4dfcb",
   "metadata": {},
   "outputs": [
    {
     "name": "stdin",
     "output_type": "stream",
     "text": [
      "Enter the Number:  5\n"
     ]
    },
    {
     "name": "stdout",
     "output_type": "stream",
     "text": [
      "Factorial of 5 is 120\n"
     ]
    }
   ],
   "source": [
    "num = int(input(\"Enter the Number: \"))\n",
    "fact = 1\n",
    "if num < 0:\n",
    "    print(\"Not Possible\")\n",
    "else:\n",
    "    for i in range(1,num+1):\n",
    "        fact = fact*i\n",
    "print(\"Factorial of\",num,\"is\",fact)        \n",
    "    "
   ]
  },
  {
   "cell_type": "code",
   "execution_count": 7,
   "id": "97b8755c-a919-4ae4-b97e-d3c53d77b32d",
   "metadata": {},
   "outputs": [
    {
     "name": "stdin",
     "output_type": "stream",
     "text": [
      "Enter the number:  5\n"
     ]
    },
    {
     "name": "stdout",
     "output_type": "stream",
     "text": [
      "Factorial of 5 is 120\n"
     ]
    }
   ],
   "source": [
    "def factorial(n):\n",
    "    if n==0:\n",
    "        return 1\n",
    "    return n*factorial(n-1)\n",
    "\n",
    "num = int(input(\"Enter the number: \"))\n",
    "print(\"Factorial of\",num,\"is\",factorial(num))"
   ]
  },
  {
   "cell_type": "markdown",
   "id": "37019c9d-bfd6-4fbc-bd34-9fd90c456934",
   "metadata": {},
   "source": [
    "# 3. Write a Python Program to find largest element in a list"
   ]
  },
  {
   "cell_type": "code",
   "execution_count": 54,
   "id": "fbb3361f-c36d-48f9-8b6a-d39a7cd98ef0",
   "metadata": {},
   "outputs": [
    {
     "name": "stdout",
     "output_type": "stream",
     "text": [
      "The Largest number is:  20\n"
     ]
    }
   ],
   "source": [
    "numbers = [10,5,20,8,15]\n",
    "maxNum = numbers[0]\n",
    "for num in numbers:\n",
    "    if maxNum < num:\n",
    "        maxNum = num\n",
    "print(\"The Largest number is: \", maxNum)\n"
   ]
  },
  {
   "cell_type": "code",
   "execution_count": 5,
   "id": "ca4bedac-f4f5-4dbf-969c-4adc0ab47f6c",
   "metadata": {},
   "outputs": [
    {
     "name": "stdout",
     "output_type": "stream",
     "text": [
      "The Largest number is:  20\n"
     ]
    }
   ],
   "source": [
    "numbers = [10,5,20,8,15]\n",
    "if numbers:\n",
    "    largest = max(numbers)\n",
    "    print(\"The Largest number is: \", largest)\n",
    "else:\n",
    "    print(\"The List is Empty\")\n",
    "        "
   ]
  },
  {
   "cell_type": "code",
   "execution_count": 55,
   "id": "e3085480-98f8-46d4-b0a9-ca878b571582",
   "metadata": {},
   "outputs": [
    {
     "name": "stdout",
     "output_type": "stream",
     "text": [
      "The Smallest number is:  5\n"
     ]
    }
   ],
   "source": [
    "# Python Program to find Smallest element in a list\n",
    "numbers = [10,5,20,8,15]\n",
    "minNum = numbers[0]\n",
    "for num in numbers:\n",
    "    if minNum > num:\n",
    "        minNum = num\n",
    "print(\"The Smallest number is: \", minNum)\n"
   ]
  },
  {
   "cell_type": "markdown",
   "id": "d400ba31-b48f-4995-b312-699143862fca",
   "metadata": {},
   "source": [
    "# 4. Write a Python program to reverse a string"
   ]
  },
  {
   "cell_type": "code",
   "execution_count": 8,
   "id": "327e265e-6a0c-45f8-ac84-c065dc400b35",
   "metadata": {},
   "outputs": [
    {
     "name": "stdout",
     "output_type": "stream",
     "text": [
      "Reversed String:  !dlroW olleH\n"
     ]
    }
   ],
   "source": [
    "string = \"Hello World!\"\n",
    "reversed_string = string[::-1]\n",
    "print(\"Reversed String: \",reversed_string)"
   ]
  },
  {
   "cell_type": "code",
   "execution_count": 9,
   "id": "f1d098a4-47d7-4a1c-99c5-9de3e712f0d5",
   "metadata": {},
   "outputs": [
    {
     "name": "stdout",
     "output_type": "stream",
     "text": [
      "Reversed String:  !dlroW olleH\n"
     ]
    }
   ],
   "source": [
    "string = \"Hello World!\"\n",
    "reversed_string = \"\"\n",
    "for char in string:\n",
    "    reversed_string = char + reversed_string\n",
    "print(\"Reversed String: \",reversed_string)"
   ]
  },
  {
   "cell_type": "markdown",
   "id": "300d195e-9ba0-4cf0-83b1-3606ca92188a",
   "metadata": {},
   "source": [
    "# 5. Write a Python Program to count Frequency of each element in a list"
   ]
  },
  {
   "cell_type": "code",
   "execution_count": 10,
   "id": "a62dd095-8f39-4ac3-833a-fe5a14d8c2c5",
   "metadata": {},
   "outputs": [
    {
     "name": "stdout",
     "output_type": "stream",
     "text": [
      "Frequency of each element: {10: 3, 20: 2, 30: 2, 40: 1}\n"
     ]
    }
   ],
   "source": [
    "numbers = [10,20,10,30,20,10,40,30]\n",
    "frequency = {}\n",
    "for num in numbers:\n",
    "    if num in frequency:\n",
    "        frequency[num] +=1\n",
    "    else:\n",
    "        frequency[num]=1\n",
    "print(\"Frequency of each element:\",frequency)        "
   ]
  },
  {
   "cell_type": "markdown",
   "id": "8958c3bb-7527-4d1a-a0a4-bfbf7f22a65d",
   "metadata": {},
   "source": [
    "# 6. Write a Python Program to check number is Prime"
   ]
  },
  {
   "cell_type": "code",
   "execution_count": 11,
   "id": "c27530cf-901d-4465-b7a8-e518ad157c57",
   "metadata": {},
   "outputs": [
    {
     "name": "stdin",
     "output_type": "stream",
     "text": [
      "Enter the number:  5\n"
     ]
    },
    {
     "name": "stdout",
     "output_type": "stream",
     "text": [
      "Number is Prime\n"
     ]
    }
   ],
   "source": [
    "num = int(input(\"Enter the number: \"))\n",
    "if num > 1:\n",
    "    for i in range(2,(num//2)+1):\n",
    "        if num % i ==0:\n",
    "            print(\"Number is not Prime\")\n",
    "            break\n",
    "        else:\n",
    "            print(\"Number is Prime\")\n",
    "else:\n",
    "    print(\"Number is not Prime\")\n",
    "            \n",
    "            "
   ]
  },
  {
   "cell_type": "markdown",
   "id": "f114baeb-d004-4787-93b1-2e4d869e8361",
   "metadata": {},
   "source": [
    "# 7. Write a Python Program to find common elements between two lists"
   ]
  },
  {
   "cell_type": "code",
   "execution_count": 13,
   "id": "9b72dae2-df92-4179-97cd-2aeb9aa57287",
   "metadata": {},
   "outputs": [
    {
     "name": "stdout",
     "output_type": "stream",
     "text": [
      "Common elements: [4, 5]\n"
     ]
    }
   ],
   "source": [
    "list1 = [1,2,3,4,5]\n",
    "list2 = [4,5,6,7,8]\n",
    "common_elements = []\n",
    "for element in list1:\n",
    "    if element in list2:\n",
    "        common_elements.append(element)\n",
    "print(\"Common elements:\",common_elements)"
   ]
  },
  {
   "cell_type": "markdown",
   "id": "d5b2478d-4160-4e15-8272-ef461e500293",
   "metadata": {},
   "source": [
    "# 8. Write a Python Program  to sort a list of elements using bubble sort"
   ]
  },
  {
   "cell_type": "code",
   "execution_count": 15,
   "id": "f6dba7d9-1021-48c1-9100-6a52d3fb2e29",
   "metadata": {},
   "outputs": [
    {
     "name": "stdout",
     "output_type": "stream",
     "text": [
      "[1, 2, 5, 8, 9]\n"
     ]
    }
   ],
   "source": [
    "def bubble_sort(num):\n",
    "    n = len(num)\n",
    "    for i in range(n-1):\n",
    "        for j in range(n-i-1):\n",
    "            if num[j] > num[j+1]:\n",
    "                num[j],num[j+1] = num[j+1],num[j]\n",
    "\n",
    "numbers = [5,2,8,1,9]\n",
    "bubble_sort(numbers)\n",
    "print(numbers)\n"
   ]
  },
  {
   "cell_type": "markdown",
   "id": "f307fab8-98d7-4bcc-8ba2-59603f3449fd",
   "metadata": {},
   "source": [
    "# 9. Write a Python Program to find the second largest number in a list"
   ]
  },
  {
   "cell_type": "code",
   "execution_count": 16,
   "id": "2d17c800-1c55-4d46-a88d-beea078e82dd",
   "metadata": {},
   "outputs": [
    {
     "name": "stdout",
     "output_type": "stream",
     "text": [
      "Second Largest numbers:  8\n"
     ]
    }
   ],
   "source": [
    "def find_second_largest(num):\n",
    "    unique_num = list(set(num))\n",
    "    unique_num.sort(reverse = True)\n",
    "    if len(unique_num)<2:\n",
    "        return \"There is no second largest element\"\n",
    "    return unique_num[1]\n",
    "numbers = [5,3,8,1,9,7]\n",
    "second_largest = find_second_largest(numbers)\n",
    "print(\"Second Largest numbers: \",second_largest)"
   ]
  },
  {
   "cell_type": "markdown",
   "id": "6d62ffc7-35cc-475c-b945-4c3ed1f17516",
   "metadata": {},
   "source": [
    "# 10. Write a Python Program to Remove duplicates from a list"
   ]
  },
  {
   "cell_type": "code",
   "execution_count": 3,
   "id": "54fca969-5c6b-40a5-8cbd-ce21e79cbb81",
   "metadata": {},
   "outputs": [
    {
     "name": "stdout",
     "output_type": "stream",
     "text": [
      "[1, 2, 3, 4, 5]\n"
     ]
    }
   ],
   "source": [
    "def remove_duplicates(numbers):\n",
    "    unique_numbers = []\n",
    "    for num in numbers:\n",
    "        if num not in unique_numbers:\n",
    "            unique_numbers.append(num)\n",
    "    return unique_numbers       \n",
    "nums = [1,2,3,2,1,3,2,4,5,4]\n",
    "unique_nums = remove_duplicates(nums)\n",
    "print(unique_nums)"
   ]
  },
  {
   "cell_type": "markdown",
   "id": "ed8fc973-b4f6-4923-9034-2ddca863bc8b",
   "metadata": {},
   "source": [
    "# 11.Program to check if the given number is even or odd"
   ]
  },
  {
   "cell_type": "code",
   "execution_count": 5,
   "id": "06e3d0ef-3367-41c9-9a7b-91a0f077eb61",
   "metadata": {},
   "outputs": [
    {
     "name": "stdin",
     "output_type": "stream",
     "text": [
      "Enter the Number:  3\n"
     ]
    },
    {
     "name": "stdout",
     "output_type": "stream",
     "text": [
      "Number is Odd\n"
     ]
    }
   ],
   "source": [
    "num = int(input(\"Enter the Number: \"))\n",
    "if num % 2 ==0:\n",
    "    print(\"Number is Even\")\n",
    "else:\n",
    "    print(\"Number is Odd\")"
   ]
  },
  {
   "cell_type": "markdown",
   "id": "3531e19c-7c4a-4a7a-a4ad-8b559a383f56",
   "metadata": {},
   "source": [
    "# 12. Program to Check the given Number is Palindrome"
   ]
  },
  {
   "cell_type": "code",
   "execution_count": 11,
   "id": "eec7e781-7e26-41fd-9bbc-712e49963ab5",
   "metadata": {},
   "outputs": [
    {
     "name": "stdin",
     "output_type": "stream",
     "text": [
      "Enter the number:  242\n"
     ]
    },
    {
     "name": "stdout",
     "output_type": "stream",
     "text": [
      "Number is Palindrome\n"
     ]
    }
   ],
   "source": [
    "num = int(input(\"Enter the number: \"))\n",
    "str_num = str(num)\n",
    "res = str_num[::-1]\n",
    "if res==str_num:\n",
    "    print(\"Number is Palindrome\")\n",
    "else:\n",
    "    print(\"Number is not Palindrome\")"
   ]
  },
  {
   "cell_type": "markdown",
   "id": "dd387b36-ebd1-44ff-b028-5e809af45b39",
   "metadata": {},
   "source": [
    "# 13. Program to Check if the given number is Perfect number"
   ]
  },
  {
   "cell_type": "code",
   "execution_count": 14,
   "id": "defe4382-bea1-46e1-8076-2a63802d7dd3",
   "metadata": {},
   "outputs": [
    {
     "name": "stdin",
     "output_type": "stream",
     "text": [
      "Enter the number:  6\n"
     ]
    },
    {
     "name": "stdout",
     "output_type": "stream",
     "text": [
      "The Number is perfect number\n"
     ]
    }
   ],
   "source": [
    "num= int(input(\"Enter the number: \"))\n",
    "sum = 0\n",
    "for i in range(1,num):\n",
    "    if (num % i == 0):\n",
    "        sum = sum + i\n",
    "if (sum == num):\n",
    "    print(\"The Number is perfect number\")\n",
    "else:\n",
    "    print(\"The Number is not perfect number\")"
   ]
  },
  {
   "cell_type": "markdown",
   "id": "b016b2c9-7ca2-4703-91eb-97bf97c2a2d3",
   "metadata": {},
   "source": [
    "# 14. Program to check if the given number is Armstrong number"
   ]
  },
  {
   "cell_type": "code",
   "execution_count": 15,
   "id": "fe6aa2b2-6bd9-47e6-9063-420c8e16bf65",
   "metadata": {},
   "outputs": [
    {
     "name": "stdin",
     "output_type": "stream",
     "text": [
      "Enter the Number:  153\n"
     ]
    },
    {
     "name": "stdout",
     "output_type": "stream",
     "text": [
      "153 is an Armstrong number\n"
     ]
    }
   ],
   "source": [
    "num = int(input(\"Enter the Number: \"))\n",
    "sum = 0\n",
    "n1 = len(str(num))\n",
    "temp = num\n",
    "for digit in str(temp):\n",
    "    sum +=int(digit)**n1\n",
    "    \n",
    "if num == sum:\n",
    "    print(num,\"is an Armstrong number\")\n",
    "else:\n",
    "    print(num,\"is not an Armstrong number\")\n",
    "\n",
    "# Armstrong number means for example-  153 = 1*1*1 + 5*5*5 + 3*3*3 = 153"
   ]
  },
  {
   "cell_type": "markdown",
   "id": "0bfd4f47-9784-48d7-88d6-65bc2e3eecba",
   "metadata": {},
   "source": [
    "# 15. Program to check if the given number is Strong number"
   ]
  },
  {
   "cell_type": "code",
   "execution_count": 17,
   "id": "ffb1a969-b907-4d9d-99b3-7012b67c6c41",
   "metadata": {},
   "outputs": [
    {
     "name": "stdin",
     "output_type": "stream",
     "text": [
      "Enter the number:  145\n"
     ]
    },
    {
     "name": "stdout",
     "output_type": "stream",
     "text": [
      "The number is strong number\n"
     ]
    }
   ],
   "source": [
    "# Strong number - A number that is equal to the sum of factorial of its individual digits \n",
    "# example - 145 = 1! + 4! + 5! = 1 + 24 + 120 = 145\n",
    "sum = 0\n",
    "num = int(input(\"Enter the number: \"))\n",
    "temp = num\n",
    "for digit in str(num):\n",
    "    i = 1\n",
    "    f = 1\n",
    "    r =int(digit)\n",
    "    for i in range(1,r+1):\n",
    "        f *= i\n",
    "    sum += f\n",
    "if sum == temp:\n",
    "    print(\"The number is strong number\")\n",
    "else:\n",
    "    print(\"The number is not strong number\")"
   ]
  },
  {
   "cell_type": "markdown",
   "id": "c5b977eb-2e8f-484b-9ac0-02b5e6f2555d",
   "metadata": {},
   "source": [
    "# 16. Program to count the digits of a number"
   ]
  },
  {
   "cell_type": "code",
   "execution_count": 19,
   "id": "183b3822-3d48-4fa8-8ae9-69e617e8ef29",
   "metadata": {},
   "outputs": [
    {
     "name": "stdin",
     "output_type": "stream",
     "text": [
      "Enter the Number:  123\n"
     ]
    },
    {
     "name": "stdout",
     "output_type": "stream",
     "text": [
      "The Number of digits in a number are:  3\n"
     ]
    }
   ],
   "source": [
    "num = int(input(\"Enter the Number: \"))\n",
    "count = 0\n",
    "for i in str(num):\n",
    "    count +=1\n",
    "print(\"The Number of digits in a number are: \",count)"
   ]
  },
  {
   "cell_type": "markdown",
   "id": "84636f20-e25c-4d70-bb1f-7162a0dd98c2",
   "metadata": {},
   "source": [
    "# 17. Program to swap two numbers"
   ]
  },
  {
   "cell_type": "code",
   "execution_count": 20,
   "id": "366acb2e-d971-4ec3-9e43-5ae706aca0ed",
   "metadata": {},
   "outputs": [
    {
     "name": "stdin",
     "output_type": "stream",
     "text": [
      "Enter the First Number:  2\n",
      "Enter the Second Number:  3\n"
     ]
    },
    {
     "name": "stdout",
     "output_type": "stream",
     "text": [
      "Value of num1 before swapping:  2\n",
      "Value of num2 before swapping:  3\n",
      "Value of num1 after swapping:  3\n",
      "Value of num2 after swapping:  2\n"
     ]
    }
   ],
   "source": [
    "num1 = int(input(\"Enter the First Number: \"))\n",
    "num2 = int(input(\"Enter the Second Number: \"))\n",
    "print(\"Value of num1 before swapping: \",num1)\n",
    "print(\"Value of num2 before swapping: \",num2)\n",
    "temp = num1\n",
    "num1 = num2\n",
    "num2 = temp\n",
    "print(\"Value of num1 after swapping: \",num1)\n",
    "print(\"Value of num2 after swapping: \",num2)\n"
   ]
  },
  {
   "cell_type": "code",
   "execution_count": 21,
   "id": "a0137c95-74d9-4540-b78a-69792c8840e8",
   "metadata": {},
   "outputs": [
    {
     "name": "stdin",
     "output_type": "stream",
     "text": [
      "Enter the First number:  2\n",
      "Enter the Second number:  3\n"
     ]
    },
    {
     "name": "stdout",
     "output_type": "stream",
     "text": [
      "Value of num1 before swapping:  2\n",
      "Value of num2 before swapping:  3\n",
      "Value of num1 after swapping:  3\n",
      "Value of num2 after swapping:  2\n"
     ]
    }
   ],
   "source": [
    "num1 = int(input(\"Enter the First number: \"))\n",
    "num2 = int(input(\"Enter the Second number: \"))\n",
    "print(\"Value of num1 before swapping: \",num1)\n",
    "print(\"Value of num2 before swapping: \",num2)\n",
    "num1,num2 = num2,num1\n",
    "print(\"Value of num1 after swapping: \",num1)\n",
    "print(\"Value of num2 after swapping: \",num2)"
   ]
  },
  {
   "cell_type": "markdown",
   "id": "6ac7d17b-2fee-45db-8e15-f6d4d704be56",
   "metadata": {},
   "source": [
    "# 18. Program to print Fibonacci series"
   ]
  },
  {
   "cell_type": "code",
   "execution_count": 22,
   "id": "0f5d3635-ae8a-4c06-a9ab-cda8b689536c",
   "metadata": {},
   "outputs": [
    {
     "name": "stdin",
     "output_type": "stream",
     "text": [
      "Enter the Number:  5\n"
     ]
    },
    {
     "name": "stdout",
     "output_type": "stream",
     "text": [
      "Fibonacci Series: 0 1 1 2 3 "
     ]
    }
   ],
   "source": [
    "num = int(input(\"Enter the Number: \"))\n",
    "n1,n2 = 0,1\n",
    "print(\"Fibonacci Series:\",n1,n2,end=\" \")\n",
    "for i in range(2,num):\n",
    "    n3 = n1 + n2\n",
    "    n1 = n2\n",
    "    n2 = n3\n",
    "    print(n3,end=\" \")"
   ]
  },
  {
   "cell_type": "markdown",
   "id": "0bff244a-fef2-4979-bcdf-62a00fc8a9eb",
   "metadata": {},
   "source": [
    "# 19. Find the largest of two numbers without conditional statement"
   ]
  },
  {
   "cell_type": "code",
   "execution_count": 23,
   "id": "f4b5cf86-b6ff-4c77-8648-4ed2d8232e8a",
   "metadata": {},
   "outputs": [
    {
     "name": "stdin",
     "output_type": "stream",
     "text": [
      "Enter the number 12\n",
      "Enter the number 34\n"
     ]
    },
    {
     "name": "stdout",
     "output_type": "stream",
     "text": [
      "The largest number between 12 and 34 is 34.0\n"
     ]
    }
   ],
   "source": [
    "def largest_of_two(a,b):\n",
    "    return (a+b+abs(a-b)) / 2\n",
    "num1 = int(input(\"Enter the number\"))\n",
    "num2 = int(input(\"Enter the number\"))\n",
    "print(f\"The largest number between {num1} and {num2} is {largest_of_two(num1,num2)}\")"
   ]
  },
  {
   "cell_type": "markdown",
   "id": "b23b0d1e-a537-4e67-be57-1b9ad28f37e1",
   "metadata": {},
   "source": [
    "# 20. Program to find the area of a triangle when sides are given"
   ]
  },
  {
   "cell_type": "code",
   "execution_count": 24,
   "id": "76c628a8-429c-4909-b42b-3aa23f491dbb",
   "metadata": {},
   "outputs": [
    {
     "name": "stdin",
     "output_type": "stream",
     "text": [
      "Enter the Number:  2\n",
      "Enter the Number:  3\n",
      "Enter the Number:  4\n"
     ]
    },
    {
     "name": "stdout",
     "output_type": "stream",
     "text": [
      "The area of triangle is:  2.9047375096555625\n"
     ]
    }
   ],
   "source": [
    "a = float(input(\"Enter the Number: \"))\n",
    "b = float(input(\"Enter the Number: \"))\n",
    "c = float(input(\"Enter the Number: \"))\n",
    "s = (a + b + c) / 2\n",
    "area = (s*(s-a)*(s-b)*(s-c)) ** 0.5\n",
    "print('The area of triangle is: ',area)"
   ]
  },
  {
   "cell_type": "markdown",
   "id": "601f567e-f485-4073-a77c-5b566fd6da24",
   "metadata": {},
   "source": [
    "# 21. Program to find the volume of sphere when radius are given"
   ]
  },
  {
   "cell_type": "code",
   "execution_count": 25,
   "id": "b19ea49f-cbf1-4056-a812-045b59f7c82e",
   "metadata": {},
   "outputs": [
    {
     "name": "stdin",
     "output_type": "stream",
     "text": [
      "Enter the Number:  4\n"
     ]
    },
    {
     "name": "stdout",
     "output_type": "stream",
     "text": [
      "Volume of sphere is:  267.94666666666666\n"
     ]
    }
   ],
   "source": [
    "rad = float(input(\"Enter the Number: \"))\n",
    "Volume  = 4/3 *3.14*(rad**3)\n",
    "print(\"Volume of sphere is: \",Volume)"
   ]
  },
  {
   "cell_type": "markdown",
   "id": "3c6dfe11-ba48-4c8a-a3f0-9083e2b0f549",
   "metadata": {},
   "source": [
    "# 22. Program to check if the year is a leap year"
   ]
  },
  {
   "cell_type": "code",
   "execution_count": 27,
   "id": "7fd20f85-82eb-481f-a19d-cedaee07af4b",
   "metadata": {},
   "outputs": [
    {
     "name": "stdin",
     "output_type": "stream",
     "text": [
      "Enter the Number:  2008\n"
     ]
    },
    {
     "name": "stdout",
     "output_type": "stream",
     "text": [
      "Year is leap Year\n"
     ]
    }
   ],
   "source": [
    "year = int(input(\"Enter the Number: \"))\n",
    "if year % 4 ==0:\n",
    "    if year % 100 ==0:\n",
    "        if year % 400==0:\n",
    "            print(\"Year is leap Year\")\n",
    "        else:\n",
    "            print(\"Year is not leap Year\")\n",
    "    else:\n",
    "        print(\"Year is leap Year\")\n",
    "else:\n",
    "    print(\"Year is not leap Year\")"
   ]
  },
  {
   "cell_type": "markdown",
   "id": "f2584ffe-e1ef-49bd-bcb8-1079eef00d52",
   "metadata": {},
   "source": [
    "# 23. Program to convert Binary to Decimal"
   ]
  },
  {
   "cell_type": "code",
   "execution_count": 28,
   "id": "a963d05a-d63c-4048-a365-a63fda849815",
   "metadata": {},
   "outputs": [
    {
     "name": "stdin",
     "output_type": "stream",
     "text": [
      "Enter the number:  1\n"
     ]
    },
    {
     "name": "stdout",
     "output_type": "stream",
     "text": [
      "Binary number is 1\n",
      "decimal number is 1\n"
     ]
    }
   ],
   "source": [
    "num = int(input(\"Enter the number: \"))\n",
    "binary_val = num\n",
    "decimal_val = 0\n",
    "base = 1\n",
    "num_str = str(num)\n",
    "for digit in num_str[::-1]:\n",
    "    rem = int(digit)\n",
    "    decimal_val +=rem * base\n",
    "    base*=2\n",
    "print(\"Binary number is {}\\ndecimal number is {}\".format(binary_val,decimal_val))"
   ]
  },
  {
   "cell_type": "markdown",
   "id": "4e7595ce-9a53-4d5f-9a90-7ba049b5869b",
   "metadata": {},
   "source": [
    "# 24. Program to convert Binary to octal"
   ]
  },
  {
   "cell_type": "code",
   "execution_count": 29,
   "id": "a7d898f3-43c6-45cc-90a6-844a21ce7789",
   "metadata": {},
   "outputs": [
    {
     "name": "stdout",
     "output_type": "stream",
     "text": [
      "Binary number is 1010\n",
      "Octal number is 1\n"
     ]
    }
   ],
   "source": [
    "def binary_to_octal(binary_num):\n",
    "    binary_str = str(binary_num)\n",
    "    decimal_val = 0\n",
    "    base = 1\n",
    "    for digit in num_str[::-1]:\n",
    "        rem = int(digit)\n",
    "        decimal_val +=rem * base\n",
    "        base*=2\n",
    "\n",
    "    octal_val = ''\n",
    "    while decimal_val > 0:\n",
    "        octal_val = str(decimal_val % 8) + octal_val\n",
    "        decimal_val //=8\n",
    "    return octal_val\n",
    "\n",
    "binary_num = 1010\n",
    "octal_val = binary_to_octal(binary_num)\n",
    "print(f\"Binary number is {binary_num}\\nOctal number is {octal_val}\")"
   ]
  },
  {
   "cell_type": "markdown",
   "id": "2bd60067-c994-434a-be58-6c83daaf17be",
   "metadata": {},
   "source": [
    "# 25. Program to find LCM of two numbers without using recursion"
   ]
  },
  {
   "cell_type": "code",
   "execution_count": 30,
   "id": "c2565dd0-1596-463c-9247-7db19e4870ba",
   "metadata": {},
   "outputs": [
    {
     "name": "stdout",
     "output_type": "stream",
     "text": [
      "LCM of 12 and 14 is 84\n"
     ]
    }
   ],
   "source": [
    "num1 = 12\n",
    "num2 = 14\n",
    "for i in range(1,max(num1,num2)):\n",
    "    if num1 % i == num2 % i ==0:\n",
    "        hcf = i\n",
    "\n",
    "lcm = (num1*num2)//hcf\n",
    "print(\"LCM of\",num1,\"and\",num2,\"is\",lcm)"
   ]
  },
  {
   "cell_type": "markdown",
   "id": "b6bcc9fa-8913-4a9b-9bb5-3ef5aa4348fb",
   "metadata": {},
   "source": [
    "# 26. Program to find GCD of two numbers without using recursion"
   ]
  },
  {
   "cell_type": "code",
   "execution_count": 31,
   "id": "41220e6d-1e41-4506-a177-fa7f593baee6",
   "metadata": {},
   "outputs": [
    {
     "name": "stdout",
     "output_type": "stream",
     "text": [
      "GCD of 12 and 14 is 2\n"
     ]
    }
   ],
   "source": [
    "num1 = 12\n",
    "num2 = 14\n",
    "smaller = min(num1,num2)\n",
    "hcf =1\n",
    "for i in range(1,smaller + 1):\n",
    "    if num1 % i == num2 % i ==0:\n",
    "        hcf = i\n",
    "print(f\"GCD of {num1} and {num2} is {hcf}\")"
   ]
  },
  {
   "cell_type": "markdown",
   "id": "8aa2d7f2-f2cf-4493-9253-3916b68c00c2",
   "metadata": {},
   "source": [
    "# 27.Python Program to print wedge,pyramid and diamond pattern"
   ]
  },
  {
   "cell_type": "code",
   "execution_count": 32,
   "id": "f43abc05-8c73-42c1-b97d-3b65e9608c4d",
   "metadata": {},
   "outputs": [
    {
     "name": "stdout",
     "output_type": "stream",
     "text": [
      "*  \n",
      "* *  \n",
      "* * *  \n",
      "* * * *  \n",
      "* * * * *  \n"
     ]
    }
   ],
   "source": [
    "# Wedge pattern\n",
    "for i in range(1,5+1,1):\n",
    "    for j in range(1,i+1):\n",
    "        print(\"*\",end=\" \")\n",
    "    print(\" \")"
   ]
  },
  {
   "cell_type": "code",
   "execution_count": 34,
   "id": "a94479ff-8f0a-4f4d-83f6-5e87e6687145",
   "metadata": {},
   "outputs": [
    {
     "name": "stdin",
     "output_type": "stream",
     "text": [
      "Enter the Number:  7\n"
     ]
    },
    {
     "name": "stdout",
     "output_type": "stream",
     "text": [
      "       *\n",
      "      ***\n",
      "     *****\n",
      "    *******\n",
      "   *********\n",
      "  ***********\n",
      " *************\n"
     ]
    }
   ],
   "source": [
    "# Pyramid Pattern\n",
    "rows = int(input(\"Enter the Number: \"))\n",
    "for i in range(1,rows + 1):\n",
    "    print(\" \" * (rows-i),end=\" \")\n",
    "    print(\"*\" *(2*i-1))"
   ]
  },
  {
   "cell_type": "code",
   "execution_count": 37,
   "id": "7ae4f798-6b3a-41f1-b7ad-25d6227e3773",
   "metadata": {},
   "outputs": [
    {
     "name": "stdin",
     "output_type": "stream",
     "text": [
      "Enter the Number:  5\n"
     ]
    },
    {
     "name": "stdout",
     "output_type": "stream",
     "text": [
      "     *\n",
      "    ***\n",
      "   *****\n",
      "  *******\n",
      " *********\n",
      "  *******\n",
      "   *****\n",
      "    ***\n",
      "     *\n"
     ]
    }
   ],
   "source": [
    "# Diamond pattern\n",
    "rows = int(input(\"Enter the Number: \"))\n",
    "for i in range(1,rows + 1):\n",
    "    print(\" \" * (rows-i),end=\" \")\n",
    "    print(\"*\" *(2*i-1))\n",
    "\n",
    "for i in range(rows-1,0,-1):\n",
    "    print(\" \" * (rows-i),end=\" \")\n",
    "    print(\"*\" *(2*i-1))"
   ]
  },
  {
   "cell_type": "code",
   "execution_count": 35,
   "id": "2a06b38c-2c86-4ef6-b89a-f5931f1ce819",
   "metadata": {},
   "outputs": [
    {
     "name": "stdout",
     "output_type": "stream",
     "text": [
      "5 4 3 2 1 \n",
      "4 3 2 1 \n",
      "3 2 1 \n",
      "2 1 \n",
      "1 \n",
      "\n"
     ]
    }
   ],
   "source": [
    "# print the following pattern\n",
    "# 5 4 3 2 1 \n",
    "# 4 3 2 1\n",
    "# 3 2 1\n",
    "# 2 1\n",
    "# 1\n",
    "\n",
    "for i in range(0,5+1):\n",
    "    for j in range(5-i,0,-1):\n",
    "        print(j,end=\" \")\n",
    "    print(\"\")  "
   ]
  },
  {
   "cell_type": "code",
   "execution_count": 36,
   "id": "243af684-a956-42fb-a06b-05de82278949",
   "metadata": {},
   "outputs": [
    {
     "name": "stdout",
     "output_type": "stream",
     "text": [
      "*  \n",
      "* *  \n",
      "* * *  \n",
      "* * * *  \n",
      "* * * * *  \n",
      "* * * *  \n",
      "* * *  \n",
      "* *  \n",
      "*  \n",
      " \n"
     ]
    }
   ],
   "source": [
    "# print the following Pattern\n",
    "# *\n",
    "# * *\n",
    "# * * *\n",
    "# * * * *\n",
    "# * * * * *\n",
    "# * * * * \n",
    "# * * *\n",
    "# * *\n",
    "# *\n",
    "\n",
    "for i in range(1,5+1,1):\n",
    "    for j in range(1,i+1):\n",
    "        print(\"*\",end =' ')\n",
    "    print(\" \")\n",
    "for i in range(5, 0, -1):\n",
    "    for j in range(0, i - 1):\n",
    "        print(\"*\", end=' ')\n",
    "    print(\" \")"
   ]
  },
  {
   "cell_type": "markdown",
   "id": "4a0c64ee-ba88-4075-a7be-eb498d247d8c",
   "metadata": {},
   "source": [
    "# 28. Write code to calculate frequency of characters in a string"
   ]
  },
  {
   "cell_type": "code",
   "execution_count": 38,
   "id": "2a715202-d5c4-45cf-b11e-b5b3f95b1636",
   "metadata": {},
   "outputs": [
    {
     "name": "stdin",
     "output_type": "stream",
     "text": [
      "Enter the string:  Mayur Dnyaneshwar Shinde\n",
      "Enter character:  a\n"
     ]
    },
    {
     "name": "stdout",
     "output_type": "stream",
     "text": [
      "3 is the frequency of given string\n"
     ]
    }
   ],
   "source": [
    "string = input(\"Enter the string: \")\n",
    "char = input(\"Enter character: \")\n",
    "frequency = 0\n",
    "frequency = string.count(char)\n",
    "print(str(frequency) + ' is the frequency of given string')"
   ]
  },
  {
   "cell_type": "markdown",
   "id": "24421f72-d943-41d5-8a21-cabbfb2044ad",
   "metadata": {},
   "source": [
    "# 29. Find Non repeating characters in a string"
   ]
  },
  {
   "cell_type": "code",
   "execution_count": 39,
   "id": "09a72099-a32b-436a-bfb7-5c3a5137cccb",
   "metadata": {},
   "outputs": [
    {
     "name": "stdin",
     "output_type": "stream",
     "text": [
      "Enter the string:  prepinsta\n"
     ]
    },
    {
     "name": "stdout",
     "output_type": "stream",
     "text": [
      "r e i n s t a\n"
     ]
    }
   ],
   "source": [
    "String = input(\"Enter the string: \")\n",
    "non_repeating = []\n",
    "for i in String:\n",
    "    count = 0\n",
    "    for j in String:\n",
    "        if i ==j:\n",
    "            count+=1\n",
    "        if count >1:\n",
    "            break\n",
    "\n",
    "    if count ==1:\n",
    "        non_repeating.append(i)\n",
    "\n",
    "print(\" \".join(non_repeating))"
   ]
  },
  {
   "cell_type": "markdown",
   "id": "5abfac0a-6296-4011-b0b4-9b90afdc13ee",
   "metadata": {},
   "source": [
    "# 30. Write a code to replace a substring in a string"
   ]
  },
  {
   "cell_type": "code",
   "execution_count": 42,
   "id": "e6657a69-4913-453c-8cf7-4315dd8855b6",
   "metadata": {},
   "outputs": [
    {
     "name": "stdin",
     "output_type": "stream",
     "text": [
      "Enter the string:  Mayur\n",
      "Enter substring which has to be replaced:  M\n",
      "Enter substring with which str1 has to be replaced:  H\n"
     ]
    },
    {
     "name": "stdout",
     "output_type": "stream",
     "text": [
      "String after replacement\n",
      "Hayur\n"
     ]
    }
   ],
   "source": [
    "string = input(\"Enter the string: \")\n",
    "str1 = input(\"Enter substring which has to be replaced: \")\n",
    "str2 = input(\"Enter substring with which str1 has to be replaced: \")\n",
    "string = string.replace(str1,str2)\n",
    "print(\"String after replacement\")\n",
    "print(string)"
   ]
  },
  {
   "cell_type": "markdown",
   "id": "314c104a-c1f5-4bab-9a29-9411cf9af9e3",
   "metadata": {},
   "source": [
    "# 31. Write a Program to find the sum of Natural numbers using recursion"
   ]
  },
  {
   "cell_type": "code",
   "execution_count": 43,
   "id": "cc35444b-e54c-466b-a078-8c4f0a25eb8e",
   "metadata": {},
   "outputs": [
    {
     "name": "stdin",
     "output_type": "stream",
     "text": [
      "Enter the number:  5\n"
     ]
    },
    {
     "name": "stdout",
     "output_type": "stream",
     "text": [
      "15\n"
     ]
    }
   ],
   "source": [
    "def getSum(num):\n",
    "    if num==1:\n",
    "        return 1\n",
    "    return num + getSum(num-1)\n",
    "\n",
    "num = int(input(\"Enter the number: \"))\n",
    "print(getSum(num))"
   ]
  },
  {
   "cell_type": "markdown",
   "id": "2f8a57a5-a410-4932-bfab-bcc8a83cc0a7",
   "metadata": {},
   "source": [
    "# 32. Write a program to check whether a character is a vowel or consonant"
   ]
  },
  {
   "cell_type": "code",
   "execution_count": 44,
   "id": "920adf63-08fb-4f7e-a6e6-58a05c2b1302",
   "metadata": {},
   "outputs": [
    {
     "name": "stdin",
     "output_type": "stream",
     "text": [
      "Enter the Character:  v\n"
     ]
    },
    {
     "name": "stdout",
     "output_type": "stream",
     "text": [
      "Character is consonant\n"
     ]
    }
   ],
   "source": [
    "Char = input(\"Enter the Character: \")\n",
    "if (Char=='a' or Char=='e' or Char=='i' or Char=='o' or Char =='u'):\n",
    "    print(\"Charcter is vowel\")\n",
    "\n",
    "else:\n",
    "    print(\"Character is consonant\")"
   ]
  },
  {
   "cell_type": "markdown",
   "id": "4fb94eb1-670a-44d1-b7c0-1bb5d1dbdaf7",
   "metadata": {},
   "source": [
    "# 33. Write a Code to find an Automorphic number in python"
   ]
  },
  {
   "cell_type": "code",
   "execution_count": 45,
   "id": "61a511d9-3dc7-4501-8a9b-90093da3ec17",
   "metadata": {},
   "outputs": [
    {
     "name": "stdin",
     "output_type": "stream",
     "text": [
      "Enter the number:  8\n"
     ]
    },
    {
     "name": "stdout",
     "output_type": "stream",
     "text": [
      "8 is not an Automorphic number\n"
     ]
    }
   ],
   "source": [
    "# Automorphic number is a number whose square ends in the same digits as number itself\n",
    "def is_automorphic(num):\n",
    "    square = num**2\n",
    "    return str(square).endswith(str(num))\n",
    "num = int(input(\"Enter the number: \"))\n",
    "if is_automorphic(num):\n",
    "    print(f\"{num} is an Automorphic number\")\n",
    "else:\n",
    "    print(f\"{num} is not an Automorphic number\")"
   ]
  },
  {
   "cell_type": "markdown",
   "id": "efe1eea9-0eed-4503-9467-4c2bcb1177ae",
   "metadata": {},
   "source": [
    "# 34. Write a code to find ASCII value of character"
   ]
  },
  {
   "cell_type": "code",
   "execution_count": 46,
   "id": "fa4b744c-0174-4c33-9868-8921541e47f7",
   "metadata": {},
   "outputs": [
    {
     "name": "stdin",
     "output_type": "stream",
     "text": [
      "Enter the character:  y\n"
     ]
    },
    {
     "name": "stdout",
     "output_type": "stream",
     "text": [
      "121\n"
     ]
    }
   ],
   "source": [
    "Char = input(\"Enter the character: \")\n",
    "Asciival = ord(Char)\n",
    "print(Asciival)"
   ]
  },
  {
   "cell_type": "markdown",
   "id": "f3cb5cb4-7bc3-437a-bef1-23eb8f89e224",
   "metadata": {},
   "source": [
    "# 35. Write a Code to remove all characters from string except alphabets"
   ]
  },
  {
   "cell_type": "code",
   "execution_count": 47,
   "id": "52a82090-60bd-49a2-94c0-3e26a6371168",
   "metadata": {},
   "outputs": [
    {
     "name": "stdin",
     "output_type": "stream",
     "text": [
      "Enter the string:  Mayur@3102\n"
     ]
    },
    {
     "name": "stdout",
     "output_type": "stream",
     "text": [
      "Alphabets in String are : Mayur\n"
     ]
    }
   ],
   "source": [
    "str1 = input(\"Enter the string: \")\n",
    "str2 = ''\n",
    "for i in str1:\n",
    "    if (ord(i) >=65 and ord(i)<=90) or (ord(i)>=97 and ord(i)<=122):\n",
    "        str2+=i\n",
    "\n",
    "print(\"Alphabets in String are : \" + str2)"
   ]
  },
  {
   "cell_type": "markdown",
   "id": "e6fcb587-8496-4869-99c0-267d96b1d365",
   "metadata": {},
   "source": [
    "# 36. Write a code to remove space from a string"
   ]
  },
  {
   "cell_type": "code",
   "execution_count": 48,
   "id": "25b08ad4-5d0b-4454-85de-93aabd31f5e8",
   "metadata": {},
   "outputs": [
    {
     "name": "stdin",
     "output_type": "stream",
     "text": [
      "Enter the string:  Mayu R\n"
     ]
    },
    {
     "name": "stdout",
     "output_type": "stream",
     "text": [
      "After Removing spaces the string is:  MayuR\n"
     ]
    }
   ],
   "source": [
    "str = input(\"Enter the string: \")\n",
    "str = ''.join(str.split())\n",
    "print(\"After Removing spaces the string is: \",str)"
   ]
  },
  {
   "cell_type": "markdown",
   "id": "54d959ce-19fa-4396-b2e5-9c3f1b549dc2",
   "metadata": {},
   "source": [
    "# 37. Write a Program to find out the Sum of digits of a number"
   ]
  },
  {
   "cell_type": "code",
   "execution_count": 49,
   "id": "4f998e61-e7dc-446b-bd13-a9c231137b7e",
   "metadata": {},
   "outputs": [
    {
     "name": "stdin",
     "output_type": "stream",
     "text": [
      "Enter the number:  31\n"
     ]
    },
    {
     "name": "stdout",
     "output_type": "stream",
     "text": [
      "4\n"
     ]
    }
   ],
   "source": [
    "num = input(\"Enter the number: \")\n",
    "sum = 0\n",
    "for i in num:\n",
    "    sum = sum + int(i)\n",
    "print(sum)"
   ]
  },
  {
   "cell_type": "markdown",
   "id": "7d8c1047-6e75-4276-9aef-96aa0c2ae599",
   "metadata": {},
   "source": [
    "# 38. Write a Program to find out the power of a number"
   ]
  },
  {
   "cell_type": "code",
   "execution_count": 50,
   "id": "bf3b03cf-7999-43f5-a3bf-181e5328ec57",
   "metadata": {},
   "outputs": [
    {
     "name": "stdout",
     "output_type": "stream",
     "text": [
      "9\n"
     ]
    }
   ],
   "source": [
    "num,power = 3,2\n",
    "print(pow(num,power))"
   ]
  },
  {
   "cell_type": "markdown",
   "id": "287a2393-ba97-44d0-afaa-a4bc49b4e27e",
   "metadata": {},
   "source": [
    "# 39. Converting an Integer into Decimals"
   ]
  },
  {
   "cell_type": "code",
   "execution_count": 51,
   "id": "642578eb-d22e-4b02-a348-ac909f7dfec3",
   "metadata": {},
   "outputs": [
    {
     "name": "stdout",
     "output_type": "stream",
     "text": [
      "10\n",
      "<class 'decimal.Decimal'>\n"
     ]
    }
   ],
   "source": [
    "import decimal\n",
    "int = 10\n",
    "print(decimal.Decimal(int))\n",
    "print(type(decimal.Decimal(int)))"
   ]
  },
  {
   "cell_type": "markdown",
   "id": "c62f8b91-cf9e-46d1-a6ae-efbb9200c10e",
   "metadata": {},
   "source": [
    "# 40. Converting an String of Integers into Decimals"
   ]
  },
  {
   "cell_type": "code",
   "execution_count": 52,
   "id": "f250c4cc-cae9-47b3-9518-1d6e174b0ce5",
   "metadata": {},
   "outputs": [
    {
     "name": "stdout",
     "output_type": "stream",
     "text": [
      "12345\n",
      "<class 'decimal.Decimal'>\n"
     ]
    }
   ],
   "source": [
    "import decimal\n",
    "str = '12345'\n",
    "print(decimal.Decimal(str))\n",
    "print(type(decimal.Decimal(str)))"
   ]
  },
  {
   "cell_type": "markdown",
   "id": "04a44c37-4d3f-453a-8179-237621fbb32d",
   "metadata": {},
   "source": [
    "# 41. Converting a List into a string"
   ]
  },
  {
   "cell_type": "code",
   "execution_count": 61,
   "id": "9b8d381c-34ad-4024-a823-0c320003691d",
   "metadata": {},
   "outputs": [
    {
     "name": "stdout",
     "output_type": "stream",
     "text": [
      "PYTHON\n",
      "<class 'str'>\n"
     ]
    }
   ],
   "source": [
    "list = [\"P\",\"Y\",\"T\",\"H\",\"O\",\"N\"]\n",
    "string = \"\".join(list)\n",
    "print(string)\n",
    "print(type(string))"
   ]
  },
  {
   "cell_type": "markdown",
   "id": "0e0c2c18-3a71-4f0e-9f89-5bf0143d9bec",
   "metadata": {},
   "source": [
    "# 42. Adding Two List Elements Together"
   ]
  },
  {
   "cell_type": "code",
   "execution_count": 64,
   "id": "5f13b9be-dbf0-4dce-866e-f31db06f0591",
   "metadata": {},
   "outputs": [
    {
     "name": "stdout",
     "output_type": "stream",
     "text": [
      "[5, 7, 9]\n"
     ]
    }
   ],
   "source": [
    "list1 = [1,2,3]\n",
    "list2 = [4,5,6]\n",
    "res_lst = []\n",
    "for i in range(0,len(list1)):\n",
    "    res_lst.append(list1[i] + list2[i])\n",
    "print(res_lst)"
   ]
  },
  {
   "cell_type": "markdown",
   "id": "0ff93bac-fb4a-499a-be1a-31e37c503dea",
   "metadata": {},
   "source": [
    "# 43. Counting Digits,Letters,and spaces in a String"
   ]
  },
  {
   "cell_type": "code",
   "execution_count": 66,
   "id": "e1e133c5-7c19-4f45-acc0-244e7c3f6de3",
   "metadata": {},
   "outputs": [
    {
     "name": "stdout",
     "output_type": "stream",
     "text": [
      "1\n",
      "8\n",
      "2\n"
     ]
    }
   ],
   "source": [
    "import re\n",
    "name = \"Python is 1\"\n",
    "digitCount = re.sub(\"[^0-9]\",\"\",name)\n",
    "letterCount = re.sub(\"[^a-zA-Z]\",\"\",name)\n",
    "spaceCount = re.findall(\"[ \\n]\",name)\n",
    "print(len(digitCount))\n",
    "print(len(letterCount))\n",
    "print(len(spaceCount))"
   ]
  },
  {
   "cell_type": "markdown",
   "id": "ab9feb2e-0d4c-4c0c-849b-028a6335013a",
   "metadata": {},
   "source": [
    "# 44. Counting Special characters in a String"
   ]
  },
  {
   "cell_type": "code",
   "execution_count": 68,
   "id": "cbd8f659-dab8-4295-90e1-26f8ee259868",
   "metadata": {},
   "outputs": [
    {
     "name": "stdout",
     "output_type": "stream",
     "text": [
      "10\n"
     ]
    }
   ],
   "source": [
    "import re\n",
    "spChar = \"!@#$%^&*()\"\n",
    "count= re.sub('[\\w]+',\"\",spChar)\n",
    "print(len(count))"
   ]
  },
  {
   "cell_type": "markdown",
   "id": "abceac55-b910-430e-9cec-23fcb978c6c2",
   "metadata": {},
   "source": [
    "# 45. Randomizing the items of a List"
   ]
  },
  {
   "cell_type": "code",
   "execution_count": 67,
   "id": "770160b1-7449-4d0b-a5e5-59aced062f60",
   "metadata": {},
   "outputs": [
    {
     "name": "stdout",
     "output_type": "stream",
     "text": [
      "['Easy', 'Python', 'Is']\n"
     ]
    }
   ],
   "source": [
    "from random import shuffle\n",
    "list1 = [\"Python\",\"Is\",\"Easy\"]\n",
    "shuffle(list1)\n",
    "print(list1)"
   ]
  },
  {
   "cell_type": "code",
   "execution_count": null,
   "id": "30a18943-375d-4f65-9443-42f6ba36f9a6",
   "metadata": {},
   "outputs": [],
   "source": []
  }
 ],
 "metadata": {
  "kernelspec": {
   "display_name": "Python 3 (ipykernel)",
   "language": "python",
   "name": "python3"
  },
  "language_info": {
   "codemirror_mode": {
    "name": "ipython",
    "version": 3
   },
   "file_extension": ".py",
   "mimetype": "text/x-python",
   "name": "python",
   "nbconvert_exporter": "python",
   "pygments_lexer": "ipython3",
   "version": "3.11.7"
  }
 },
 "nbformat": 4,
 "nbformat_minor": 5
}
